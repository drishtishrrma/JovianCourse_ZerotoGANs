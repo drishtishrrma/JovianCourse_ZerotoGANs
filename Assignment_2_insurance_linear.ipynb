{
  "nbformat": 4,
  "nbformat_minor": 0,
  "metadata": {
    "colab": {
      "name": "Assignment 2-insurance-linear.ipynb",
      "provenance": []
    },
    "kernelspec": {
      "display_name": "Python 3",
      "language": "python",
      "name": "python3"
    },
    "language_info": {
      "codemirror_mode": {
        "name": "ipython",
        "version": 3
      },
      "file_extension": ".py",
      "mimetype": "text/x-python",
      "name": "python",
      "nbconvert_exporter": "python",
      "pygments_lexer": "ipython3",
      "version": "3.8.5"
    }
  },
  "cells": [
    {
      "cell_type": "code",
      "metadata": {
        "id": "dGnCaNhgvz_I"
      },
      "source": [
        "# Jovian Commit Essentials\n",
        "# Please retain and execute this cell without modifying the contents for `jovian.commit` to work\n",
        "!pip install jovian --upgrade -q\n",
        "import jovian\n",
        "jovian.set_project('02-insurance-linear-regression')\n",
        "jovian.set_colab_id('1EzULY1FFAV2MAS_03aI0Mwe64X8EnIUa')"
      ],
      "execution_count": null,
      "outputs": []
    },
    {
      "cell_type": "markdown",
      "metadata": {
        "_cell_guid": "b1076dfc-b9ad-4769-8c92-a6c4dae69d19",
        "_uuid": "8f2839f25d086af736a60e9eeb907d3b93b6e0e5",
        "id": "m2QnkkF9aieg"
      },
      "source": [
        "# Insurance cost prediction using linear regression\n",
        "\n",
        "Make a submisson here: https://jovian.ai/learn/deep-learning-with-pytorch-zero-to-gans/assignment/assignment-2-train-your-first-model\n",
        "\n",
        "In this assignment we're going to use information like a person's age, sex, BMI, no. of children and smoking habit to predict the price of yearly medical bills. This kind of model is useful for insurance companies to determine the yearly insurance premium for a person. The dataset for this problem is taken from [Kaggle](https://www.kaggle.com/mirichoi0218/insurance).\n",
        "\n",
        "\n",
        "We will create a model with the following steps:\n",
        "1. Download and explore the dataset\n",
        "2. Prepare the dataset for training\n",
        "3. Create a linear regression model\n",
        "4. Train the model to fit the data\n",
        "5. Make predictions using the trained model\n",
        "\n",
        "\n",
        "This assignment builds upon the concepts from the first 2 lessons. It will help to review these Jupyter notebooks:\n",
        "- PyTorch basics: https://jovian.ai/aakashns/01-pytorch-basics\n",
        "- Linear Regression: https://jovian.ai/aakashns/02-linear-regression\n",
        "- Logistic Regression: https://jovian.ai/aakashns/03-logistic-regression\n",
        "- Linear regression (minimal): https://jovian.ai/aakashns/housing-linear-minimal\n",
        "- Logistic regression (minimal): https://jovian.ai/aakashns/mnist-logistic-minimal\n",
        "\n",
        "As you go through this notebook, you will find a **???** in certain places. Your job is to replace the **???** with appropriate code or values, to ensure that the notebook runs properly end-to-end . In some cases, you'll be required to choose some hyperparameters (learning rate, batch size etc.). Try to experiment with the hypeparameters to get the lowest loss.\n"
      ]
    },
    {
      "cell_type": "code",
      "metadata": {
        "colab": {
          "base_uri": "https://localhost:8080/"
        },
        "id": "W2j9z74vaieh",
        "outputId": "c794de62-efe4-4672-fbce-9140518914dc"
      },
      "source": [
        "# Uncomment and run the appropriate command for your operating system, if required\n",
        "\n",
        "# Linux / Binder\n",
        "# !pip install numpy matplotlib pandas torch==1.7.0+cpu torchvision==0.8.1+cpu torchaudio==0.7.0 -f https://download.pytorch.org/whl/torch_stable.html\n",
        "\n",
        "# Windows\n",
        "# !pip install numpy matplotlib pandas torch==1.7.0+cpu torchvision==0.8.1+cpu torchaudio==0.7.0 -f https://download.pytorch.org/whl/torch_stable.html\n",
        "\n",
        "# MacOS\n",
        "# !pip install numpy matplotlib pandas torch torchvision torchaudio"
      ],
      "execution_count": null,
      "outputs": [
        {
          "output_type": "stream",
          "text": [
            "time: 3.42 ms (started: 2021-05-25 17:35:14 +00:00)\n"
          ],
          "name": "stdout"
        }
      ]
    },
    {
      "cell_type": "code",
      "metadata": {
        "colab": {
          "base_uri": "https://localhost:8080/"
        },
        "id": "UkyUiouQr8Ut",
        "outputId": "96e398c1-66ed-41fc-8f9c-d1a9044cf051"
      },
      "source": [
        "%%capture\n",
        "!pip install ipython-autotime\n",
        "%load_ext autotime"
      ],
      "execution_count": null,
      "outputs": [
        {
          "output_type": "stream",
          "text": [
            "time: 2.83 s (started: 2021-05-25 17:35:14 +00:00)\n"
          ],
          "name": "stdout"
        }
      ]
    },
    {
      "cell_type": "code",
      "metadata": {
        "colab": {
          "base_uri": "https://localhost:8080/"
        },
        "id": "M5FY-ImFaiei",
        "outputId": "5c7c2256-b8d5-4a83-f729-eeff57d778df"
      },
      "source": [
        "import torch\n",
        "import jovian\n",
        "import torchvision\n",
        "import torch.nn as nn\n",
        "import pandas as pd\n",
        "import matplotlib.pyplot as plt\n",
        "import torch.nn.functional as F\n",
        "from torchvision.datasets.utils import download_url\n",
        "from torch.utils.data import DataLoader, TensorDataset, random_split"
      ],
      "execution_count": null,
      "outputs": [
        {
          "output_type": "stream",
          "text": [
            "time: 8.5 ms (started: 2021-05-25 17:35:17 +00:00)\n"
          ],
          "name": "stdout"
        }
      ]
    },
    {
      "cell_type": "code",
      "metadata": {
        "id": "tmF5Bl2Hr8Xf"
      },
      "source": [
        ""
      ],
      "execution_count": null,
      "outputs": []
    },
    {
      "cell_type": "code",
      "metadata": {
        "colab": {
          "base_uri": "https://localhost:8080/"
        },
        "id": "9P0MtDVfaiei",
        "outputId": "4f7d0911-b889-4130-e4ca-f4c924fb5f0d"
      },
      "source": [
        "project_name='02-insurance-linear-regression' # will be used by jovian.commit"
      ],
      "execution_count": null,
      "outputs": [
        {
          "output_type": "stream",
          "text": [
            "time: 1.38 ms (started: 2021-05-25 17:35:17 +00:00)\n"
          ],
          "name": "stdout"
        }
      ]
    },
    {
      "cell_type": "markdown",
      "metadata": {
        "id": "qljuxzj5aiej"
      },
      "source": [
        "## Step 1: Download and explore the data\n",
        "\n",
        "Let us begin by downloading the data. We'll use the `download_url` function from PyTorch to get the data as a CSV (comma-separated values) file. "
      ]
    },
    {
      "cell_type": "code",
      "metadata": {
        "_cell_guid": "79c7e3d0-c299-4dcb-8224-4455121ee9b0",
        "_uuid": "d629ff2d2480ee46fbb7e2d37f6b5fab8052498a",
        "colab": {
          "base_uri": "https://localhost:8080/"
        },
        "id": "9-B5G87jaiej",
        "outputId": "2eeed7b9-2b61-4015-8039-d2be38979cd2"
      },
      "source": [
        "DATASET_URL = \"https://hub.jovian.ml/wp-content/uploads/2020/05/insurance.csv\"\n",
        "DATA_FILENAME = \"insurance.csv\"\n",
        "download_url(DATASET_URL, '.')"
      ],
      "execution_count": null,
      "outputs": [
        {
          "output_type": "stream",
          "text": [
            "Using downloaded and verified file: ./insurance.csv\n",
            "time: 2.54 ms (started: 2021-05-25 17:35:17 +00:00)\n"
          ],
          "name": "stdout"
        }
      ]
    },
    {
      "cell_type": "markdown",
      "metadata": {
        "id": "FRyHuRrXaiel"
      },
      "source": [
        "To load the dataset into memory, we'll use the `read_csv` function from the `pandas` library. The data will be loaded as a Pandas dataframe. See this short tutorial to learn more: https://data36.com/pandas-tutorial-1-basics-reading-data-files-dataframes-data-selection/"
      ]
    },
    {
      "cell_type": "code",
      "metadata": {
        "colab": {
          "base_uri": "https://localhost:8080/",
          "height": 212
        },
        "id": "TMlp-Pkmaiel",
        "outputId": "8ec08f64-f9ea-44df-d95f-6bb5f922fc3c"
      },
      "source": [
        "dataframe_raw = pd.read_csv(DATA_FILENAME)\n",
        "dataframe_raw.head()"
      ],
      "execution_count": null,
      "outputs": [
        {
          "output_type": "execute_result",
          "data": {
            "text/html": [
              "<div>\n",
              "<style scoped>\n",
              "    .dataframe tbody tr th:only-of-type {\n",
              "        vertical-align: middle;\n",
              "    }\n",
              "\n",
              "    .dataframe tbody tr th {\n",
              "        vertical-align: top;\n",
              "    }\n",
              "\n",
              "    .dataframe thead th {\n",
              "        text-align: right;\n",
              "    }\n",
              "</style>\n",
              "<table border=\"1\" class=\"dataframe\">\n",
              "  <thead>\n",
              "    <tr style=\"text-align: right;\">\n",
              "      <th></th>\n",
              "      <th>age</th>\n",
              "      <th>sex</th>\n",
              "      <th>bmi</th>\n",
              "      <th>children</th>\n",
              "      <th>smoker</th>\n",
              "      <th>region</th>\n",
              "      <th>charges</th>\n",
              "    </tr>\n",
              "  </thead>\n",
              "  <tbody>\n",
              "    <tr>\n",
              "      <th>0</th>\n",
              "      <td>19</td>\n",
              "      <td>female</td>\n",
              "      <td>27.900</td>\n",
              "      <td>0</td>\n",
              "      <td>yes</td>\n",
              "      <td>southwest</td>\n",
              "      <td>16884.92400</td>\n",
              "    </tr>\n",
              "    <tr>\n",
              "      <th>1</th>\n",
              "      <td>18</td>\n",
              "      <td>male</td>\n",
              "      <td>33.770</td>\n",
              "      <td>1</td>\n",
              "      <td>no</td>\n",
              "      <td>southeast</td>\n",
              "      <td>1725.55230</td>\n",
              "    </tr>\n",
              "    <tr>\n",
              "      <th>2</th>\n",
              "      <td>28</td>\n",
              "      <td>male</td>\n",
              "      <td>33.000</td>\n",
              "      <td>3</td>\n",
              "      <td>no</td>\n",
              "      <td>southeast</td>\n",
              "      <td>4449.46200</td>\n",
              "    </tr>\n",
              "    <tr>\n",
              "      <th>3</th>\n",
              "      <td>33</td>\n",
              "      <td>male</td>\n",
              "      <td>22.705</td>\n",
              "      <td>0</td>\n",
              "      <td>no</td>\n",
              "      <td>northwest</td>\n",
              "      <td>21984.47061</td>\n",
              "    </tr>\n",
              "    <tr>\n",
              "      <th>4</th>\n",
              "      <td>32</td>\n",
              "      <td>male</td>\n",
              "      <td>28.880</td>\n",
              "      <td>0</td>\n",
              "      <td>no</td>\n",
              "      <td>northwest</td>\n",
              "      <td>3866.85520</td>\n",
              "    </tr>\n",
              "  </tbody>\n",
              "</table>\n",
              "</div>"
            ],
            "text/plain": [
              "   age     sex     bmi  children smoker     region      charges\n",
              "0   19  female  27.900         0    yes  southwest  16884.92400\n",
              "1   18    male  33.770         1     no  southeast   1725.55230\n",
              "2   28    male  33.000         3     no  southeast   4449.46200\n",
              "3   33    male  22.705         0     no  northwest  21984.47061\n",
              "4   32    male  28.880         0     no  northwest   3866.85520"
            ]
          },
          "metadata": {
            "tags": []
          },
          "execution_count": 57
        },
        {
          "output_type": "stream",
          "text": [
            "time: 38.6 ms (started: 2021-05-25 17:35:17 +00:00)\n"
          ],
          "name": "stdout"
        }
      ]
    },
    {
      "cell_type": "markdown",
      "metadata": {
        "id": "vJxHLQM-aiem"
      },
      "source": [
        "We're going to do a slight customization of the data, so that you every participant receives a slightly different version of the dataset. Fill in your name below as a string (enter at least 5 characters)"
      ]
    },
    {
      "cell_type": "code",
      "metadata": {
        "colab": {
          "base_uri": "https://localhost:8080/"
        },
        "id": "m9EiIAYyaiem",
        "outputId": "49700cc4-b941-4037-c20c-018054280995"
      },
      "source": [
        "your_name = \"Drishti\" # at least 5 characters"
      ],
      "execution_count": null,
      "outputs": [
        {
          "output_type": "stream",
          "text": [
            "time: 1.62 ms (started: 2021-05-25 17:35:17 +00:00)\n"
          ],
          "name": "stdout"
        }
      ]
    },
    {
      "cell_type": "markdown",
      "metadata": {
        "id": "2D-yNDVzaiem"
      },
      "source": [
        "The `customize_dataset` function will customize the dataset slightly using your name as a source of random numbers."
      ]
    },
    {
      "cell_type": "code",
      "metadata": {
        "colab": {
          "base_uri": "https://localhost:8080/"
        },
        "id": "xUo8qAU1aien",
        "outputId": "3a0dad9b-b780-4e8e-97d7-3514ebaf07af"
      },
      "source": [
        "def customize_dataset(dataframe_raw, rand_str):\n",
        "    dataframe = dataframe_raw.copy(deep=True)\n",
        "    # drop some rows\n",
        "    dataframe = dataframe.sample(int(0.95*len(dataframe)), random_state=int(ord(rand_str[0])))\n",
        "    # scale input\n",
        "    dataframe.bmi = dataframe.bmi * ord(rand_str[1])/100.\n",
        "    # scale target\n",
        "    dataframe.charges = dataframe.charges * ord(rand_str[2])/100.\n",
        "    # drop column\n",
        "    if ord(rand_str[3]) % 2 == 1:\n",
        "        dataframe = dataframe.drop(['region'], axis=1)\n",
        "    return dataframe"
      ],
      "execution_count": null,
      "outputs": [
        {
          "output_type": "stream",
          "text": [
            "time: 10.2 ms (started: 2021-05-25 17:35:17 +00:00)\n"
          ],
          "name": "stdout"
        }
      ]
    },
    {
      "cell_type": "code",
      "metadata": {
        "colab": {
          "base_uri": "https://localhost:8080/",
          "height": 212
        },
        "id": "63qGNrjZaien",
        "outputId": "b1f72e42-7aa2-4b29-dff1-94051ac6fe81"
      },
      "source": [
        "dataframe = customize_dataset(dataframe_raw, your_name)\n",
        "dataframe.head()"
      ],
      "execution_count": null,
      "outputs": [
        {
          "output_type": "execute_result",
          "data": {
            "text/html": [
              "<div>\n",
              "<style scoped>\n",
              "    .dataframe tbody tr th:only-of-type {\n",
              "        vertical-align: middle;\n",
              "    }\n",
              "\n",
              "    .dataframe tbody tr th {\n",
              "        vertical-align: top;\n",
              "    }\n",
              "\n",
              "    .dataframe thead th {\n",
              "        text-align: right;\n",
              "    }\n",
              "</style>\n",
              "<table border=\"1\" class=\"dataframe\">\n",
              "  <thead>\n",
              "    <tr style=\"text-align: right;\">\n",
              "      <th></th>\n",
              "      <th>age</th>\n",
              "      <th>sex</th>\n",
              "      <th>bmi</th>\n",
              "      <th>children</th>\n",
              "      <th>smoker</th>\n",
              "      <th>charges</th>\n",
              "    </tr>\n",
              "  </thead>\n",
              "  <tbody>\n",
              "    <tr>\n",
              "      <th>184</th>\n",
              "      <td>44</td>\n",
              "      <td>male</td>\n",
              "      <td>34.9866</td>\n",
              "      <td>2</td>\n",
              "      <td>no</td>\n",
              "      <td>8117.998455</td>\n",
              "    </tr>\n",
              "    <tr>\n",
              "      <th>378</th>\n",
              "      <td>64</td>\n",
              "      <td>female</td>\n",
              "      <td>34.3311</td>\n",
              "      <td>3</td>\n",
              "      <td>no</td>\n",
              "      <td>17278.493242</td>\n",
              "    </tr>\n",
              "    <tr>\n",
              "      <th>1179</th>\n",
              "      <td>31</td>\n",
              "      <td>male</td>\n",
              "      <td>33.9834</td>\n",
              "      <td>0</td>\n",
              "      <td>yes</td>\n",
              "      <td>20317.887345</td>\n",
              "    </tr>\n",
              "    <tr>\n",
              "      <th>55</th>\n",
              "      <td>58</td>\n",
              "      <td>male</td>\n",
              "      <td>42.1287</td>\n",
              "      <td>2</td>\n",
              "      <td>yes</td>\n",
              "      <td>49871.319172</td>\n",
              "    </tr>\n",
              "    <tr>\n",
              "      <th>121</th>\n",
              "      <td>18</td>\n",
              "      <td>male</td>\n",
              "      <td>27.0750</td>\n",
              "      <td>0</td>\n",
              "      <td>no</td>\n",
              "      <td>1790.905725</td>\n",
              "    </tr>\n",
              "  </tbody>\n",
              "</table>\n",
              "</div>"
            ],
            "text/plain": [
              "      age     sex      bmi  children smoker       charges\n",
              "184    44    male  34.9866         2     no   8117.998455\n",
              "378    64  female  34.3311         3     no  17278.493242\n",
              "1179   31    male  33.9834         0    yes  20317.887345\n",
              "55     58    male  42.1287         2    yes  49871.319172\n",
              "121    18    male  27.0750         0     no   1790.905725"
            ]
          },
          "metadata": {
            "tags": []
          },
          "execution_count": 60
        },
        {
          "output_type": "stream",
          "text": [
            "time: 30.9 ms (started: 2021-05-25 17:35:17 +00:00)\n"
          ],
          "name": "stdout"
        }
      ]
    },
    {
      "cell_type": "markdown",
      "metadata": {
        "id": "EsZbfSJMaien"
      },
      "source": [
        "Let us answer some basic questions about the dataset. \n",
        "\n",
        "\n",
        "**Q: How many rows does the dataset have?**"
      ]
    },
    {
      "cell_type": "code",
      "metadata": {
        "colab": {
          "base_uri": "https://localhost:8080/"
        },
        "id": "V1FVEZd5aieo",
        "outputId": "794e385f-c29e-4a7d-9264-e06c610a695a"
      },
      "source": [
        "num_rows = len(dataframe.index)\n",
        "print(num_rows)"
      ],
      "execution_count": null,
      "outputs": [
        {
          "output_type": "stream",
          "text": [
            "1271\n",
            "time: 3.99 ms (started: 2021-05-25 17:35:17 +00:00)\n"
          ],
          "name": "stdout"
        }
      ]
    },
    {
      "cell_type": "markdown",
      "metadata": {
        "id": "5oVwAUHnaiep"
      },
      "source": [
        "**Q: How many columns doe the dataset have**"
      ]
    },
    {
      "cell_type": "code",
      "metadata": {
        "colab": {
          "base_uri": "https://localhost:8080/"
        },
        "id": "V72kaczEaiep",
        "outputId": "7805dfcb-7f83-49bf-8e0d-633e3148464f"
      },
      "source": [
        "num_cols = len(dataframe.columns)\n",
        "print(num_cols)"
      ],
      "execution_count": null,
      "outputs": [
        {
          "output_type": "stream",
          "text": [
            "6\n",
            "time: 4.82 ms (started: 2021-05-25 17:35:17 +00:00)\n"
          ],
          "name": "stdout"
        }
      ]
    },
    {
      "cell_type": "markdown",
      "metadata": {
        "id": "2SyadbbTaiep"
      },
      "source": [
        "**Q: What are the column titles of the input variables?**"
      ]
    },
    {
      "cell_type": "code",
      "metadata": {
        "colab": {
          "base_uri": "https://localhost:8080/"
        },
        "id": "Qhsp9Zfvaiep",
        "outputId": "8e968b57-a9a9-4b4d-8d24-a844fd9ca82b"
      },
      "source": [
        "input_cols = [cols for cols in dataframe.columns[:-1]]\n",
        "input_cols"
      ],
      "execution_count": null,
      "outputs": [
        {
          "output_type": "execute_result",
          "data": {
            "text/plain": [
              "['age', 'sex', 'bmi', 'children', 'smoker']"
            ]
          },
          "metadata": {
            "tags": []
          },
          "execution_count": 63
        },
        {
          "output_type": "stream",
          "text": [
            "time: 7.6 ms (started: 2021-05-25 17:35:17 +00:00)\n"
          ],
          "name": "stdout"
        }
      ]
    },
    {
      "cell_type": "code",
      "metadata": {
        "id": "sqYcLoEvf47y"
      },
      "source": [
        ""
      ],
      "execution_count": null,
      "outputs": []
    },
    {
      "cell_type": "code",
      "metadata": {
        "colab": {
          "base_uri": "https://localhost:8080/"
        },
        "id": "5R1CxRbNf49l",
        "outputId": "28a7d740-aa9b-44f6-8930-c39065c37f58"
      },
      "source": [
        "dataframe.loc[0]"
      ],
      "execution_count": null,
      "outputs": [
        {
          "output_type": "execute_result",
          "data": {
            "text/plain": [
              "age              19\n",
              "sex          female\n",
              "bmi          31.806\n",
              "children          0\n",
              "smoker          yes\n",
              "charges     17729.2\n",
              "Name: 0, dtype: object"
            ]
          },
          "metadata": {
            "tags": []
          },
          "execution_count": 64
        },
        {
          "output_type": "stream",
          "text": [
            "time: 9.96 ms (started: 2021-05-25 17:35:17 +00:00)\n"
          ],
          "name": "stdout"
        }
      ]
    },
    {
      "cell_type": "markdown",
      "metadata": {
        "id": "vXnKpmNeaieq"
      },
      "source": [
        "**Q: Which of the input columns are non-numeric or categorial variables ?**\n",
        "\n",
        "Hint: `sex` is one of them. List the columns that are not numbers."
      ]
    },
    {
      "cell_type": "code",
      "metadata": {
        "colab": {
          "base_uri": "https://localhost:8080/"
        },
        "id": "In97d0sEaieq",
        "outputId": "852b3d57-63ae-417b-8623-197517bb5410"
      },
      "source": [
        "categorical_cols = [cols for cols in dataframe.columns if dataframe[cols].dtypes ==\"O\"]\n",
        "\n",
        "\n"
      ],
      "execution_count": null,
      "outputs": [
        {
          "output_type": "stream",
          "text": [
            "time: 3.86 ms (started: 2021-05-25 17:35:17 +00:00)\n"
          ],
          "name": "stdout"
        }
      ]
    },
    {
      "cell_type": "markdown",
      "metadata": {
        "id": "kJnjYoyxaieq"
      },
      "source": [
        "**Q: What are the column titles of output/target variable(s)?**"
      ]
    },
    {
      "cell_type": "code",
      "metadata": {
        "colab": {
          "base_uri": "https://localhost:8080/"
        },
        "id": "icd6YOVcaier",
        "outputId": "321340fa-1b35-41a0-82af-625edc47503c"
      },
      "source": [
        "output_cols = [dataframe.columns[-1]]\n",
        "output_cols"
      ],
      "execution_count": null,
      "outputs": [
        {
          "output_type": "execute_result",
          "data": {
            "text/plain": [
              "['charges']"
            ]
          },
          "metadata": {
            "tags": []
          },
          "execution_count": 66
        },
        {
          "output_type": "stream",
          "text": [
            "time: 5.33 ms (started: 2021-05-25 17:35:17 +00:00)\n"
          ],
          "name": "stdout"
        }
      ]
    },
    {
      "cell_type": "markdown",
      "metadata": {
        "id": "hbci7nYyaier"
      },
      "source": [
        "**Q: (Optional) What is the minimum, maximum and average value of the `charges` column? Can you show the distribution of values in a graph?**\n",
        "Use this data visualization cheatsheet for referece: https://jovian.ml/aakashns/dataviz-cheatsheet"
      ]
    },
    {
      "cell_type": "code",
      "metadata": {
        "colab": {
          "base_uri": "https://localhost:8080/",
          "height": 399
        },
        "id": "67Eunewuaier",
        "outputId": "d32b5156-a689-4589-822f-fde3299e0443"
      },
      "source": [
        "# Minimum value of charges column\n",
        "min_value = dataframe[\"charges\"].min()\n",
        "\n",
        "# Maximum value of charges column\n",
        "max_value = dataframe[\"charges\"].max()\n",
        "\n",
        "# Average value of charges column\n",
        "avg_value = dataframe[\"charges\"].mean()\n",
        "\n",
        "print(f\"Minimum value: {min_value}, Maximum Value: {max_value}, Average Value: {avg_value}\")\n",
        "\n",
        "\n",
        "\n",
        "import seaborn as sns\n",
        "\n",
        "plt.title(\"Distribution of charges\")\n",
        "sns.distplot(dataframe[\"charges\"])"
      ],
      "execution_count": null,
      "outputs": [
        {
          "output_type": "stream",
          "text": [
            "Minimum value: 1177.967595, Maximum Value: 66958.9494105, Average Value: 13905.207685305639\n"
          ],
          "name": "stdout"
        },
        {
          "output_type": "stream",
          "text": [
            "/usr/local/lib/python3.7/dist-packages/seaborn/distributions.py:2557: FutureWarning: `distplot` is a deprecated function and will be removed in a future version. Please adapt your code to use either `displot` (a figure-level function with similar flexibility) or `histplot` (an axes-level function for histograms).\n",
            "  warnings.warn(msg, FutureWarning)\n"
          ],
          "name": "stderr"
        },
        {
          "output_type": "execute_result",
          "data": {
            "text/plain": [
              "<matplotlib.axes._subplots.AxesSubplot at 0x7f4388141950>"
            ]
          },
          "metadata": {
            "tags": []
          },
          "execution_count": 67
        },
        {
          "output_type": "display_data",
          "data": {
            "image/png": "[encoded data removed]",
            "text/plain": [
              "<Figure size 432x288 with 1 Axes>"
            ]
          },
          "metadata": {
            "tags": [],
            "needs_background": "light"
          }
        },
        {
          "output_type": "stream",
          "text": [
            "time: 369 ms (started: 2021-05-25 17:35:17 +00:00)\n"
          ],
          "name": "stdout"
        }
      ]
    },
    {
      "cell_type": "markdown",
      "metadata": {
        "id": "oa9Ar4edaier"
      },
      "source": [
        "Remember to commit your notebook to Jovian after every step, so that you don't lose your work."
      ]
    },
    {
      "cell_type": "code",
      "metadata": {
        "colab": {
          "base_uri": "https://localhost:8080/"
        },
        "id": "GsHZX-sraies",
        "outputId": "fc73e1c3-9667-44c1-b4d0-2a93358e4b3b"
      },
      "source": [
        "!pip install jovian --upgrade -q"
      ],
      "execution_count": null,
      "outputs": [
        {
          "output_type": "stream",
          "text": [
            "time: 2.95 s (started: 2021-05-25 17:35:18 +00:00)\n"
          ],
          "name": "stdout"
        }
      ]
    },
    {
      "cell_type": "code",
      "metadata": {
        "colab": {
          "base_uri": "https://localhost:8080/"
        },
        "id": "cBvbWlkDaies",
        "outputId": "18bb127f-a05b-4b2f-9e25-98887d70c506"
      },
      "source": [
        "import jovian"
      ],
      "execution_count": null,
      "outputs": [
        {
          "output_type": "stream",
          "text": [
            "time: 970 µs (started: 2021-05-25 17:35:21 +00:00)\n"
          ],
          "name": "stdout"
        }
      ]
    },
    {
      "cell_type": "code",
      "metadata": {
        "colab": {
          "base_uri": "https://localhost:8080/",
          "height": 119
        },
        "id": "5BI1_lCNaies",
        "outputId": "73bb9fce-1364-4045-f90a-5d8b582b1d07"
      },
      "source": [
        "jovian.commit()"
      ],
      "execution_count": null,
      "outputs": [
        {
          "output_type": "stream",
          "text": [
            "[jovian] Detected Colab notebook...\u001b[0m\n",
            "[jovian] Uploading colab notebook to Jovian...\u001b[0m\n",
            "[jovian] Capturing environment..\u001b[0m\n",
            "[jovian] Attaching records (metrics, hyperparameters, dataset etc.)\u001b[0m\n",
            "[jovian] Committed successfully! https://jovian.ai/drishtisharma96505/02-insurance-linear-regression\u001b[0m\n"
          ],
          "name": "stdout"
        },
        {
          "output_type": "execute_result",
          "data": {
            "application/vnd.google.colaboratory.intrinsic+json": {
              "type": "string"
            },
            "text/plain": [
              "'https://jovian.ai/drishtisharma96505/02-insurance-linear-regression'"
            ]
          },
          "metadata": {
            "tags": []
          },
          "execution_count": 70
        },
        {
          "output_type": "stream",
          "text": [
            "time: 3.62 s (started: 2021-05-25 17:35:21 +00:00)\n"
          ],
          "name": "stdout"
        }
      ]
    },
    {
      "cell_type": "markdown",
      "metadata": {
        "id": "TEqEpYGtaies"
      },
      "source": [
        "## Step 2: Prepare the dataset for training\n",
        "\n",
        "We need to convert the data from the Pandas dataframe into a PyTorch tensors for training. To do this, the first step is to convert it numpy arrays. If you've filled out `input_cols`, `categorial_cols` and `output_cols` correctly, this following function will perform the conversion to numpy arrays."
      ]
    },
    {
      "cell_type": "code",
      "metadata": {
        "colab": {
          "base_uri": "https://localhost:8080/"
        },
        "id": "2kAtMaOVaiet",
        "outputId": "b4e3e26f-2936-4ca3-fc3d-dad29a0bfc3e"
      },
      "source": [
        "def dataframe_to_arrays(dataframe):\n",
        "    # Make a copy of the original dataframe\n",
        "    dataframe1 = dataframe.copy(deep=True)\n",
        "    # Convert non-numeric categorical columns to numbers\n",
        "    for col in categorical_cols:\n",
        "        dataframe1[col] = dataframe1[col].astype('category').cat.codes\n",
        "    # Extract input & outupts as numpy arrays\n",
        "    inputs_array = dataframe1[input_cols].to_numpy()\n",
        "    targets_array = dataframe1[output_cols].to_numpy()\n",
        "    return inputs_array, targets_array"
      ],
      "execution_count": null,
      "outputs": [
        {
          "output_type": "stream",
          "text": [
            "time: 4.59 ms (started: 2021-05-25 17:35:24 +00:00)\n"
          ],
          "name": "stdout"
        }
      ]
    },
    {
      "cell_type": "markdown",
      "metadata": {
        "id": "FIZ-fixQaieu"
      },
      "source": [
        "Read through the [Pandas documentation](https://pandas.pydata.org/pandas-docs/stable/user_guide/categorical.html) to understand how we're converting categorical variables into numbers."
      ]
    },
    {
      "cell_type": "code",
      "metadata": {
        "colab": {
          "base_uri": "https://localhost:8080/"
        },
        "id": "nsmcYORTaieu",
        "outputId": "cfafd4b2-ab48-4375-df2d-3a6ceffd7694"
      },
      "source": [
        "inputs_array, targets_array = dataframe_to_arrays(dataframe)\n",
        "inputs_array, targets_array"
      ],
      "execution_count": null,
      "outputs": [
        {
          "output_type": "execute_result",
          "data": {
            "text/plain": [
              "(array([[44.    ,  1.    , 34.9866,  2.    ,  0.    ],\n",
              "        [64.    ,  0.    , 34.3311,  3.    ,  0.    ],\n",
              "        [31.    ,  1.    , 33.9834,  0.    ,  1.    ],\n",
              "        ...,\n",
              "        [18.    ,  0.    , 45.9192,  0.    ,  0.    ],\n",
              "        [54.    ,  1.    , 29.0244,  1.    ,  0.    ],\n",
              "        [46.    ,  1.    , 30.3468,  1.    ,  0.    ]]),\n",
              " array([[ 8117.998455 ],\n",
              "        [17278.4932425],\n",
              "        [20317.887345 ],\n",
              "        ...,\n",
              "        [ 2328.48126  ],\n",
              "        [26792.9693115],\n",
              "        [ 8129.21529  ]]))"
            ]
          },
          "metadata": {
            "tags": []
          },
          "execution_count": 72
        },
        {
          "output_type": "stream",
          "text": [
            "time: 18.2 ms (started: 2021-05-25 17:35:24 +00:00)\n"
          ],
          "name": "stdout"
        }
      ]
    },
    {
      "cell_type": "markdown",
      "metadata": {
        "id": "_Bf3HnMyaiev"
      },
      "source": [
        "**Q: Convert the numpy arrays `inputs_array` and `targets_array` into PyTorch tensors. Make sure that the data type is `torch.float32`.**"
      ]
    },
    {
      "cell_type": "code",
      "metadata": {
        "colab": {
          "base_uri": "https://localhost:8080/"
        },
        "id": "OSCQBOZ7aiev",
        "outputId": "b87f4c7b-a8dc-4dd3-9baf-487c41b54c27"
      },
      "source": [
        "inputs = torch.tensor(inputs_array, dtype=torch.float32)\n",
        "targets = torch.tensor(targets_array, dtype=torch.float32)"
      ],
      "execution_count": null,
      "outputs": [
        {
          "output_type": "stream",
          "text": [
            "time: 4.76 ms (started: 2021-05-25 17:35:24 +00:00)\n"
          ],
          "name": "stdout"
        }
      ]
    },
    {
      "cell_type": "code",
      "metadata": {
        "colab": {
          "base_uri": "https://localhost:8080/"
        },
        "id": "bKWujCXEaiew",
        "outputId": "7c47d7b4-10ca-4c85-d5b5-356c2a7d6f4b"
      },
      "source": [
        "inputs.dtype, targets.dtype"
      ],
      "execution_count": null,
      "outputs": [
        {
          "output_type": "execute_result",
          "data": {
            "text/plain": [
              "(torch.float32, torch.float32)"
            ]
          },
          "metadata": {
            "tags": []
          },
          "execution_count": 74
        },
        {
          "output_type": "stream",
          "text": [
            "time: 4.01 ms (started: 2021-05-25 17:35:24 +00:00)\n"
          ],
          "name": "stdout"
        }
      ]
    },
    {
      "cell_type": "markdown",
      "metadata": {
        "id": "q10NExc-aiew"
      },
      "source": [
        "Next, we need to create PyTorch datasets & data loaders for training & validation. We'll start by creating a `TensorDataset`."
      ]
    },
    {
      "cell_type": "code",
      "metadata": {
        "colab": {
          "base_uri": "https://localhost:8080/"
        },
        "id": "f-34ggRgaiew",
        "outputId": "57e9e9cf-fb7a-45f7-a0d0-68f2deba6dc2"
      },
      "source": [
        "dataset = TensorDataset(inputs, targets)"
      ],
      "execution_count": null,
      "outputs": [
        {
          "output_type": "stream",
          "text": [
            "time: 1.42 ms (started: 2021-05-25 17:35:24 +00:00)\n"
          ],
          "name": "stdout"
        }
      ]
    },
    {
      "cell_type": "markdown",
      "metadata": {
        "id": "DC5GELO-aie0"
      },
      "source": [
        "**Q: Pick a number between `0.1` and `0.2` to determine the fraction of data that will be used for creating the validation set. Then use `random_split` to create training & validation datasets.**"
      ]
    },
    {
      "cell_type": "code",
      "metadata": {
        "colab": {
          "base_uri": "https://localhost:8080/"
        },
        "id": "XYtunIOaaie0",
        "outputId": "6335b078-e21c-4cd8-addf-88ff38e63e9c"
      },
      "source": [
        "val_percent = 0.15 # between 0.1 and 0.2\n",
        "val_size = int(num_rows * val_percent)\n",
        "train_size = num_rows - val_size\n",
        "\n",
        "\n",
        "train_ds, val_ds = random_split(dataset, [train_size, val_size]) # Use the random_split function to split dataset into 2 parts of the desired length"
      ],
      "execution_count": null,
      "outputs": [
        {
          "output_type": "stream",
          "text": [
            "time: 3.86 ms (started: 2021-05-25 17:35:24 +00:00)\n"
          ],
          "name": "stdout"
        }
      ]
    },
    {
      "cell_type": "markdown",
      "metadata": {
        "id": "VWZRCcJMaie1"
      },
      "source": [
        "Finally, we can create data loaders for training & validation.\n",
        "\n",
        "**Q: Pick a batch size for the data loader.**"
      ]
    },
    {
      "cell_type": "code",
      "metadata": {
        "colab": {
          "base_uri": "https://localhost:8080/"
        },
        "id": "_b2MyV_9aie2",
        "outputId": "2a346398-3352-4f50-838d-8d3e6a02d7e3"
      },
      "source": [
        "batch_size = 128"
      ],
      "execution_count": null,
      "outputs": [
        {
          "output_type": "stream",
          "text": [
            "time: 1.27 ms (started: 2021-05-25 17:35:24 +00:00)\n"
          ],
          "name": "stdout"
        }
      ]
    },
    {
      "cell_type": "code",
      "metadata": {
        "colab": {
          "base_uri": "https://localhost:8080/"
        },
        "id": "gdeTI65_aie3",
        "outputId": "1ac9929f-6859-4b9c-b533-a1aaf74d7f0f"
      },
      "source": [
        "train_loader = DataLoader(train_ds, batch_size, shuffle=True)\n",
        "val_loader = DataLoader(val_ds, batch_size)"
      ],
      "execution_count": null,
      "outputs": [
        {
          "output_type": "stream",
          "text": [
            "time: 2.09 ms (started: 2021-05-25 17:35:24 +00:00)\n"
          ],
          "name": "stdout"
        }
      ]
    },
    {
      "cell_type": "markdown",
      "metadata": {
        "id": "rzXMRmOaaie3"
      },
      "source": [
        "Let's look at a batch of data to verify everything is working fine so far."
      ]
    },
    {
      "cell_type": "code",
      "metadata": {
        "colab": {
          "base_uri": "https://localhost:8080/"
        },
        "id": "9QR7EWpkaie3",
        "outputId": "21b165cb-f7f6-4d5c-f772-d1c93357d07c"
      },
      "source": [
        "for xb, yb in train_loader:\n",
        "    print(\"inputs:\", xb)\n",
        "    print(\"targets:\", yb)\n",
        "    break"
      ],
      "execution_count": null,
      "outputs": [
        {
          "output_type": "stream",
          "text": [
            "inputs: tensor([[41.0000,  0.0000, 37.6884,  2.0000,  0.0000],\n",
            "        [49.0000,  0.0000, 38.0133,  2.0000,  0.0000],\n",
            "        [62.0000,  1.0000, 35.8644,  1.0000,  0.0000],\n",
            "        [55.0000,  1.0000, 33.0315,  0.0000,  0.0000],\n",
            "        [50.0000,  1.0000, 36.2805,  0.0000,  1.0000],\n",
            "        [20.0000,  1.0000, 31.8402,  0.0000,  0.0000],\n",
            "        [27.0000,  1.0000, 21.5517,  3.0000,  0.0000],\n",
            "        [29.0000,  1.0000, 38.0133,  2.0000,  0.0000],\n",
            "        [59.0000,  1.0000, 42.2940,  1.0000,  0.0000],\n",
            "        [22.0000,  0.0000, 32.8548,  0.0000,  0.0000],\n",
            "        [20.0000,  0.0000, 24.8520,  0.0000,  1.0000],\n",
            "        [32.0000,  1.0000, 40.1280,  2.0000,  0.0000],\n",
            "        [24.0000,  1.0000, 34.0062,  0.0000,  1.0000],\n",
            "        [51.0000,  0.0000, 38.6631,  0.0000,  0.0000],\n",
            "        [37.0000,  1.0000, 38.8740,  4.0000,  1.0000],\n",
            "        [50.0000,  1.0000, 36.8220,  2.0000,  0.0000],\n",
            "        [46.0000,  1.0000, 29.3493,  3.0000,  0.0000],\n",
            "        [41.0000,  1.0000, 32.3817,  1.0000,  0.0000],\n",
            "        [35.0000,  1.0000, 34.7700,  1.0000,  0.0000],\n",
            "        [31.0000,  1.0000, 35.4141,  3.0000,  0.0000],\n",
            "        [44.0000,  1.0000, 25.2339,  2.0000,  0.0000],\n",
            "        [54.0000,  1.0000, 38.3382,  1.0000,  0.0000],\n",
            "        [59.0000,  0.0000, 31.7262,  3.0000,  0.0000],\n",
            "        [63.0000,  0.0000, 36.2520,  0.0000,  0.0000],\n",
            "        [61.0000,  0.0000, 24.0426,  0.0000,  0.0000],\n",
            "        [53.0000,  0.0000, 37.9050,  0.0000,  0.0000],\n",
            "        [51.0000,  0.0000, 45.0300,  1.0000,  0.0000],\n",
            "        [30.0000,  1.0000, 40.5042,  0.0000,  1.0000],\n",
            "        [23.0000,  1.0000, 57.4332,  1.0000,  0.0000],\n",
            "        [22.0000,  0.0000, 26.4252,  0.0000,  0.0000],\n",
            "        [28.0000,  0.0000, 27.1833,  2.0000,  0.0000],\n",
            "        [32.0000,  0.0000, 23.3928,  0.0000,  0.0000],\n",
            "        [51.0000,  0.0000, 41.4789,  3.0000,  0.0000],\n",
            "        [36.0000,  1.0000, 40.1280,  1.0000,  1.0000],\n",
            "        [58.0000,  0.0000, 38.1216,  0.0000,  0.0000],\n",
            "        [18.0000,  0.0000, 42.5106,  1.0000,  0.0000],\n",
            "        [49.0000,  0.0000, 47.2758,  4.0000,  0.0000],\n",
            "        [41.0000,  0.0000, 37.7967,  3.0000,  0.0000],\n",
            "        [22.0000,  0.0000, 30.8940,  0.0000,  0.0000],\n",
            "        [57.0000,  0.0000, 43.3200,  2.0000,  0.0000],\n",
            "        [25.0000,  0.0000, 48.0282,  1.0000,  0.0000],\n",
            "        [61.0000,  0.0000, 50.1600,  0.0000,  0.0000],\n",
            "        [58.0000,  0.0000, 30.9738,  0.0000,  0.0000],\n",
            "        [53.0000,  1.0000, 38.8797,  0.0000,  1.0000],\n",
            "        [25.0000,  1.0000, 30.4323,  4.0000,  0.0000],\n",
            "        [44.0000,  0.0000, 44.4030,  0.0000,  1.0000],\n",
            "        [28.0000,  1.0000, 38.5548,  0.0000,  0.0000],\n",
            "        [32.0000,  1.0000, 42.3852,  2.0000,  0.0000],\n",
            "        [56.0000,  0.0000, 38.5548,  2.0000,  0.0000],\n",
            "        [31.0000,  1.0000, 33.9834,  0.0000,  1.0000],\n",
            "        [29.0000,  0.0000, 23.0679,  2.0000,  0.0000],\n",
            "        [28.0000,  0.0000, 31.3500,  2.0000,  0.0000],\n",
            "        [20.0000,  0.0000, 32.8149,  0.0000,  0.0000],\n",
            "        [25.0000,  1.0000, 51.9156,  2.0000,  1.0000],\n",
            "        [42.0000,  0.0000, 33.0600,  1.0000,  0.0000],\n",
            "        [37.0000,  1.0000, 38.9880,  1.0000,  1.0000],\n",
            "        [19.0000,  0.0000, 34.7643,  0.0000,  0.0000],\n",
            "        [61.0000,  0.0000, 40.9374,  0.0000,  0.0000],\n",
            "        [18.0000,  1.0000, 36.1722,  0.0000,  1.0000],\n",
            "        [53.0000,  0.0000, 40.9260,  2.0000,  0.0000],\n",
            "        [42.0000,  0.0000, 26.6418,  0.0000,  1.0000],\n",
            "        [59.0000,  0.0000, 30.4323,  3.0000,  0.0000],\n",
            "        [23.0000,  1.0000, 19.8189,  1.0000,  0.0000],\n",
            "        [19.0000,  0.0000, 32.9232,  0.0000,  1.0000],\n",
            "        [60.0000,  1.0000, 35.7390,  3.0000,  1.0000],\n",
            "        [18.0000,  0.0000, 42.0090,  0.0000,  1.0000],\n",
            "        [51.0000,  1.0000, 25.5588,  0.0000,  0.0000],\n",
            "        [18.0000,  0.0000, 34.3311,  0.0000,  0.0000],\n",
            "        [43.0000,  0.0000, 40.6296,  1.0000,  0.0000],\n",
            "        [46.0000,  1.0000, 46.0275,  2.0000,  0.0000],\n",
            "        [41.0000,  1.0000, 42.2370,  2.0000,  0.0000],\n",
            "        [27.0000,  0.0000, 28.6995,  0.0000,  0.0000],\n",
            "        [37.0000,  1.0000, 31.9485,  2.0000,  0.0000],\n",
            "        [47.0000,  1.0000, 28.9674,  1.0000,  1.0000],\n",
            "        [46.0000,  1.0000, 30.3468,  1.0000,  0.0000],\n",
            "        [30.0000,  0.0000, 26.9667,  3.0000,  1.0000],\n",
            "        [57.0000,  1.0000, 45.9192,  0.0000,  0.0000],\n",
            "        [40.0000,  1.0000, 34.0860,  2.0000,  0.0000],\n",
            "        [46.0000,  1.0000, 44.9445,  1.0000,  0.0000],\n",
            "        [23.0000,  1.0000, 27.1833,  0.0000,  0.0000],\n",
            "        [47.0000,  1.0000, 36.8220,  1.0000,  0.0000],\n",
            "        [47.0000,  0.0000, 31.5153,  2.0000,  1.0000],\n",
            "        [19.0000,  0.0000, 23.4840,  0.0000,  0.0000],\n",
            "        [25.0000,  1.0000, 38.3724,  4.0000,  0.0000],\n",
            "        [34.0000,  0.0000, 38.4180,  1.0000,  0.0000],\n",
            "        [51.0000,  0.0000, 24.5784,  1.0000,  0.0000],\n",
            "        [43.0000,  1.0000, 40.2534,  2.0000,  0.0000],\n",
            "        [47.0000,  1.0000, 32.1651,  3.0000,  1.0000],\n",
            "        [35.0000,  0.0000, 29.7825,  0.0000,  0.0000],\n",
            "        [19.0000,  0.0000, 36.2805,  1.0000,  0.0000],\n",
            "        [28.0000,  0.0000, 27.7248,  1.0000,  0.0000],\n",
            "        [53.0000,  0.0000, 45.1440,  1.0000,  0.0000],\n",
            "        [45.0000,  1.0000, 41.5872,  2.0000,  1.0000],\n",
            "        [64.0000,  1.0000, 30.1074,  0.0000,  0.0000],\n",
            "        [28.0000,  1.0000, 27.3372,  3.0000,  1.0000],\n",
            "        [44.0000,  0.0000, 30.1074,  0.0000,  0.0000],\n",
            "        [35.0000,  1.0000, 39.6378,  2.0000,  0.0000],\n",
            "        [55.0000,  0.0000, 30.5520,  1.0000,  0.0000],\n",
            "        [48.0000,  1.0000, 35.0892,  3.0000,  0.0000],\n",
            "        [19.0000,  0.0000, 36.6054,  0.0000,  0.0000],\n",
            "        [21.0000,  1.0000, 35.4540,  0.0000,  0.0000],\n",
            "        [18.0000,  0.0000, 36.3888,  0.0000,  0.0000],\n",
            "        [21.0000,  1.0000, 29.6742,  0.0000,  0.0000],\n",
            "        [19.0000,  0.0000, 37.5060,  0.0000,  0.0000],\n",
            "        [59.0000,  1.0000, 42.6360,  0.0000,  0.0000],\n",
            "        [29.0000,  0.0000, 29.1840,  4.0000,  0.0000],\n",
            "        [36.0000,  1.0000, 38.0760,  2.0000,  1.0000],\n",
            "        [24.0000,  1.0000, 38.3382,  4.0000,  0.0000],\n",
            "        [39.0000,  1.0000, 32.2620,  1.0000,  1.0000],\n",
            "        [58.0000,  1.0000, 40.6980,  0.0000,  0.0000],\n",
            "        [45.0000,  0.0000, 36.2406,  0.0000,  0.0000],\n",
            "        [40.0000,  1.0000, 28.5912,  0.0000,  0.0000],\n",
            "        [39.0000,  0.0000, 37.0500,  1.0000,  0.0000],\n",
            "        [35.0000,  1.0000, 31.6236,  2.0000,  1.0000],\n",
            "        [58.0000,  1.0000, 55.9284,  0.0000,  0.0000],\n",
            "        [53.0000,  1.0000, 35.5224,  1.0000,  0.0000],\n",
            "        [38.0000,  1.0000, 31.9485,  1.0000,  0.0000],\n",
            "        [24.0000,  1.0000, 45.7710,  0.0000,  1.0000],\n",
            "        [44.0000,  0.0000, 27.3372,  2.0000,  0.0000],\n",
            "        [43.0000,  1.0000, 37.1640,  2.0000,  0.0000],\n",
            "        [57.0000,  1.0000, 38.7714,  0.0000,  0.0000],\n",
            "        [19.0000,  1.0000, 24.8007,  0.0000,  0.0000],\n",
            "        [38.0000,  1.0000, 19.1691,  2.0000,  0.0000],\n",
            "        [27.0000,  0.0000, 34.8726,  1.0000,  0.0000],\n",
            "        [54.0000,  1.0000, 38.9994,  2.0000,  1.0000],\n",
            "        [18.0000,  1.0000, 32.4900,  0.0000,  0.0000],\n",
            "        [47.0000,  1.0000, 22.3098,  1.0000,  0.0000],\n",
            "        [40.0000,  1.0000, 35.1975,  4.0000,  0.0000]])\n",
            "targets: tensor([[ 8136.6143],\n",
            "        [10889.4580],\n",
            "        [28351.0332],\n",
            "        [11336.1680],\n",
            "        [43152.0195],\n",
            "        [ 2065.3738],\n",
            "        [ 5069.3003],\n",
            "        [20414.4707],\n",
            "        [12964.5303],\n",
            "        [ 2264.5894],\n",
            "        [21175.7031],\n",
            "        [ 4904.1719],\n",
            "        [19580.8438],\n",
            "        [10359.6201],\n",
            "        [42191.3594],\n",
            "        [10111.9170],\n",
            "        [ 9766.9883],\n",
            "        [ 6997.9204],\n",
            "        [ 4988.6235],\n",
            "        [ 5696.2744],\n",
            "        [ 8717.6621],\n",
            "        [11366.5166],\n",
            "        [14701.3506],\n",
            "        [14574.9961],\n",
            "        [14085.7900],\n",
            "        [11093.1289],\n",
            "        [10374.0713],\n",
            "        [38797.7695],\n",
            "        [ 2559.9580],\n",
            "        [ 2868.5078],\n",
            "        [ 4955.7231],\n",
            "        [ 4771.4468],\n",
            "        [12008.5752],\n",
            "        [40644.6367],\n",
            "        [12843.1943],\n",
            "        [ 2330.4172],\n",
            "        [11526.0664],\n",
            "        [ 8965.2031],\n",
            "        [ 2262.0791],\n",
            "        [13278.5176],\n",
            "        [ 3400.3574],\n",
            "        [13717.0771],\n",
            "        [12834.0430],\n",
            "        [45417.1406],\n",
            "        [ 5121.8799],\n",
            "        [45132.6328],\n",
            "        [20657.0020],\n",
            "        [ 4907.0620],\n",
            "        [13275.5469],\n",
            "        [20317.8867],\n",
            "        [ 5151.7300],\n",
            "        [21186.5547],\n",
            "        [ 2580.0718],\n",
            "        [44217.8477],\n",
            "        [ 7403.1743],\n",
            "        [40999.6484],\n",
            "        [ 2234.8525],\n",
            "        [14317.4199],\n",
            "        [35419.3203],\n",
            "        [11721.7461],\n",
            "        [20962.9844],\n",
            "        [15101.8447],\n",
            "        [ 2913.9517],\n",
            "        [18635.9316],\n",
            "        [48437.0547],\n",
            "        [37956.9570],\n",
            "        [ 9829.3936],\n",
            "        [22412.0898],\n",
            "        [ 7713.0127],\n",
            "        [ 9169.8906],\n",
            "        [ 7628.9878],\n",
            "        [ 3736.5513],\n",
            "        [ 6514.0967],\n",
            "        [23077.6113],\n",
            "        [ 8129.2153],\n",
            "        [19704.1699],\n",
            "        [21744.4707],\n",
            "        [ 6930.3789],\n",
            "        [ 8760.0537],\n",
            "        [ 2514.9302],\n",
            "        [ 8465.9023],\n",
            "        [25762.4844],\n",
            "        [ 1818.2609],\n",
            "        [ 4729.8955],\n",
            "        [ 5263.0947],\n",
            "        [10347.8877],\n",
            "        [19746.4531],\n",
            "        [26160.9824],\n",
            "        [ 5489.3882],\n",
            "        [ 2855.2437],\n",
            "        [24453.3750],\n",
            "        [11108.6963],\n",
            "        [44898.5273],\n",
            "        [15114.2861],\n",
            "        [18546.3008],\n",
            "        [ 7790.4517],\n",
            "        [ 6015.4556],\n",
            "        [36918.1406],\n",
            "        [10648.1934],\n",
            "        [ 2237.2097],\n",
            "        [ 1602.6276],\n",
            "        [ 2316.2798],\n",
            "        [ 2207.3779],\n",
            "        [ 1836.2126],\n",
            "        [22886.8496],\n",
            "        [ 5994.3105],\n",
            "        [40336.2461],\n",
            "        [17984.8477],\n",
            "        [22136.2676],\n",
            "        [11930.8926],\n",
            "        [18825.7676],\n",
            "        [ 5686.4443],\n",
            "        [ 6550.2129],\n",
            "        [22033.2988],\n",
            "        [11950.3916],\n",
            "        [10985.0781],\n",
            "        [ 6370.4829],\n",
            "        [40032.5586],\n",
            "        [ 8621.6553],\n",
            "        [ 7813.5762],\n",
            "        [11924.4941],\n",
            "        [ 1708.6466],\n",
            "        [ 6972.5723],\n",
            "        [17636.2324],\n",
            "        [46473.7891],\n",
            "        [ 1797.8384],\n",
            "        [ 8849.4727],\n",
            "        [ 8570.8525]])\n",
            "time: 20.7 ms (started: 2021-05-25 17:35:24 +00:00)\n"
          ],
          "name": "stdout"
        }
      ]
    },
    {
      "cell_type": "markdown",
      "metadata": {
        "id": "rZP2CKZoaie4"
      },
      "source": [
        "Let's save our work by committing to Jovian."
      ]
    },
    {
      "cell_type": "code",
      "metadata": {
        "colab": {
          "base_uri": "https://localhost:8080/",
          "height": 102
        },
        "id": "qKhdfXlaaie4",
        "outputId": "68fa2bef-e7fb-4b99-f3fc-0c2e7675d997"
      },
      "source": [
        "jovian.commit(project=project_name, environment=None)"
      ],
      "execution_count": null,
      "outputs": [
        {
          "output_type": "stream",
          "text": [
            "[jovian] Detected Colab notebook...\u001b[0m\n",
            "[jovian] Uploading colab notebook to Jovian...\u001b[0m\n",
            "[jovian] Attaching records (metrics, hyperparameters, dataset etc.)\u001b[0m\n",
            "[jovian] Committed successfully! https://jovian.ai/drishtisharma96505/02-insurance-linear-regression\u001b[0m\n"
          ],
          "name": "stdout"
        },
        {
          "output_type": "execute_result",
          "data": {
            "application/vnd.google.colaboratory.intrinsic+json": {
              "type": "string"
            },
            "text/plain": [
              "'https://jovian.ai/drishtisharma96505/02-insurance-linear-regression'"
            ]
          },
          "metadata": {
            "tags": []
          },
          "execution_count": 80
        },
        {
          "output_type": "stream",
          "text": [
            "time: 1.95 s (started: 2021-05-25 17:35:24 +00:00)\n"
          ],
          "name": "stdout"
        }
      ]
    },
    {
      "cell_type": "markdown",
      "metadata": {
        "id": "09fz-d0Iaie4"
      },
      "source": [
        "## Step 3: Create a Linear Regression Model\n",
        "\n",
        "Our model itself is a fairly straightforward linear regression (we'll build more complex models in the next assignment). \n"
      ]
    },
    {
      "cell_type": "code",
      "metadata": {
        "colab": {
          "base_uri": "https://localhost:8080/"
        },
        "id": "jEuyv6BXaie5",
        "outputId": "69a29fba-5ecf-4727-cf2a-64e9df1768cd"
      },
      "source": [
        "input_size = len(input_cols)\n",
        "output_size = len(output_cols)"
      ],
      "execution_count": null,
      "outputs": [
        {
          "output_type": "stream",
          "text": [
            "time: 1.61 ms (started: 2021-05-25 17:35:26 +00:00)\n"
          ],
          "name": "stdout"
        }
      ]
    },
    {
      "cell_type": "markdown",
      "metadata": {
        "id": "MjKRhLLUaie5"
      },
      "source": [
        "**Q: Complete the class definition below by filling out the constructor (`__init__`), `forward`, `training_step` and `validation_step` methods.**\n",
        "\n",
        "Hint: Think carefully about picking a good loss fuction (it's not cross entropy). Maybe try 2-3 of them and see which one works best. See https://pytorch.org/docs/stable/nn.functional.html#loss-functions"
      ]
    },
    {
      "cell_type": "code",
      "metadata": {
        "colab": {
          "base_uri": "https://localhost:8080/"
        },
        "id": "c0YyNf0-aie5",
        "outputId": "49fdedf1-82f2-4cf5-9b4f-b357a93cc062"
      },
      "source": [
        "class InsuranceModel(nn.Module):\n",
        "    def __init__(self):\n",
        "        super().__init__()\n",
        "        self.linear = nn.Linear(input_size, output_size)                  # fill this (hint: use input_size & output_size defined above)\n",
        "        \n",
        "    def forward(self, xb):\n",
        "        out = self.linear(xb)                          # fill this\n",
        "        return out\n",
        "    \n",
        "    def training_step(self, batch):\n",
        "        inputs, targets = batch \n",
        "        # Generate predictions\n",
        "        out = self(inputs)          \n",
        "        # Calcuate loss\n",
        "        loss = F.l1_loss(out,targets)                          # fill this\n",
        "        return loss\n",
        "    \n",
        "    def validation_step(self, batch):\n",
        "        inputs, targets = batch\n",
        "        # Generate predictions\n",
        "        out = self(inputs)\n",
        "        # Calculate loss\n",
        "        loss = F.l1_loss(out, targets)                           # fill this    \n",
        "        return {'val_loss': loss.detach()}\n",
        "        \n",
        "    def validation_epoch_end(self, outputs):\n",
        "        batch_losses = [x['val_loss'] for x in outputs]\n",
        "\n",
        "        epoch_loss = torch.stack(batch_losses).mean()   # Combine losses\n",
        "        return {'val_loss': epoch_loss.item()}\n",
        "    \n",
        "    def epoch_end(self, epoch, result, num_epochs):\n",
        "        # Print result every 20th epoch\n",
        "        if (epoch+1) % 2000 == 0 or epoch == num_epochs-1:\n",
        "            print(\"Epoch [{}], val_loss: {:.4f}\".format(epoch+1, result['val_loss']))"
      ],
      "execution_count": null,
      "outputs": [
        {
          "output_type": "stream",
          "text": [
            "time: 27.4 ms (started: 2021-05-25 17:35:26 +00:00)\n"
          ],
          "name": "stdout"
        }
      ]
    },
    {
      "cell_type": "markdown",
      "metadata": {
        "id": "ZWw-xVNlaie5"
      },
      "source": [
        "Let us create a model using the `InsuranceModel` class. You may need to come back later and re-run the next cell to reinitialize the model, in case the loss becomes `nan` or `infinity`."
      ]
    },
    {
      "cell_type": "code",
      "metadata": {
        "colab": {
          "base_uri": "https://localhost:8080/"
        },
        "id": "GPI4J1Hkaie6",
        "outputId": "75320b33-761e-4614-dc89-9e52286a2b69"
      },
      "source": [
        "model = InsuranceModel()"
      ],
      "execution_count": null,
      "outputs": [
        {
          "output_type": "stream",
          "text": [
            "time: 3.72 ms (started: 2021-05-25 17:35:26 +00:00)\n"
          ],
          "name": "stdout"
        }
      ]
    },
    {
      "cell_type": "markdown",
      "metadata": {
        "id": "hCrxg-tgaie6"
      },
      "source": [
        "Let's check out the weights and biases of the model using `model.parameters`."
      ]
    },
    {
      "cell_type": "code",
      "metadata": {
        "colab": {
          "base_uri": "https://localhost:8080/"
        },
        "id": "ddk4p65Zaie6",
        "outputId": "7f42ba08-08cb-4cfa-bb30-89b3d24a6abd"
      },
      "source": [
        "list(model.parameters())"
      ],
      "execution_count": null,
      "outputs": [
        {
          "output_type": "execute_result",
          "data": {
            "text/plain": [
              "[Parameter containing:\n",
              " tensor([[-0.2234, -0.2822,  0.4447, -0.2119, -0.2793]], requires_grad=True),\n",
              " Parameter containing:\n",
              " tensor([-0.1928], requires_grad=True)]"
            ]
          },
          "metadata": {
            "tags": []
          },
          "execution_count": 84
        },
        {
          "output_type": "stream",
          "text": [
            "time: 7.3 ms (started: 2021-05-25 17:35:27 +00:00)\n"
          ],
          "name": "stdout"
        }
      ]
    },
    {
      "cell_type": "markdown",
      "metadata": {
        "id": "oFFEKpZVaie7"
      },
      "source": [
        "One final commit before we train the model."
      ]
    },
    {
      "cell_type": "code",
      "metadata": {
        "colab": {
          "base_uri": "https://localhost:8080/",
          "height": 102
        },
        "id": "FqFaLC_Zaie7",
        "outputId": "8f7cb008-5342-4388-a271-e1fcca187f53"
      },
      "source": [
        "jovian.commit(project=project_name, environment=None)"
      ],
      "execution_count": null,
      "outputs": [
        {
          "output_type": "stream",
          "text": [
            "[jovian] Detected Colab notebook...\u001b[0m\n",
            "[jovian] Uploading colab notebook to Jovian...\u001b[0m\n",
            "[jovian] Attaching records (metrics, hyperparameters, dataset etc.)\u001b[0m\n",
            "[jovian] Committed successfully! https://jovian.ai/drishtisharma96505/02-insurance-linear-regression\u001b[0m\n"
          ],
          "name": "stdout"
        },
        {
          "output_type": "execute_result",
          "data": {
            "application/vnd.google.colaboratory.intrinsic+json": {
              "type": "string"
            },
            "text/plain": [
              "'https://jovian.ai/drishtisharma96505/02-insurance-linear-regression'"
            ]
          },
          "metadata": {
            "tags": []
          },
          "execution_count": 85
        },
        {
          "output_type": "stream",
          "text": [
            "time: 2.56 s (started: 2021-05-25 17:35:27 +00:00)\n"
          ],
          "name": "stdout"
        }
      ]
    },
    {
      "cell_type": "markdown",
      "metadata": {
        "id": "uBP5njgjaie7"
      },
      "source": [
        "## Step 4: Train the model to fit the data\n",
        "\n",
        "To train our model, we'll use the same `fit` function explained in the lecture. That's the benefit of defining a generic training loop - you can use it for any problem."
      ]
    },
    {
      "cell_type": "code",
      "metadata": {
        "colab": {
          "base_uri": "https://localhost:8080/"
        },
        "id": "signrEtOaie8",
        "outputId": "182724d1-a352-4d50-bc92-acf679ec0875"
      },
      "source": [
        "def evaluate(model, val_loader):\n",
        "    outputs = [model.validation_step(batch) for batch in val_loader]\n",
        "    return model.validation_epoch_end(outputs)\n",
        "\n",
        "def fit(epochs, lr, model, train_loader, val_loader, opt_func=torch.optim.SGD):\n",
        "    history = []\n",
        "    optimizer = opt_func(model.parameters(), lr)\n",
        "    for epoch in range(epochs):\n",
        "        # Training Phase \n",
        "        for batch in train_loader:\n",
        "            loss = model.training_step(batch)\n",
        "            loss.backward()\n",
        "            optimizer.step()\n",
        "            optimizer.zero_grad()\n",
        "        # Validation phase\n",
        "        result = evaluate(model, val_loader)\n",
        "        model.epoch_end(epoch, result, epochs)\n",
        "        history.append(result)\n",
        "    return history"
      ],
      "execution_count": null,
      "outputs": [
        {
          "output_type": "stream",
          "text": [
            "time: 12.4 ms (started: 2021-05-25 17:35:29 +00:00)\n"
          ],
          "name": "stdout"
        }
      ]
    },
    {
      "cell_type": "markdown",
      "metadata": {
        "id": "58_jaDYXaie8"
      },
      "source": [
        "**Q: Use the `evaluate` function to calculate the loss on the validation set before training.**"
      ]
    },
    {
      "cell_type": "code",
      "metadata": {
        "colab": {
          "base_uri": "https://localhost:8080/"
        },
        "id": "t2YoMoSVaie8",
        "outputId": "71b667c1-19c6-4bca-9498-2568cfd12104"
      },
      "source": [
        "result = evaluate(model, val_loader) # Use the the evaluate function\n",
        "print(result)"
      ],
      "execution_count": null,
      "outputs": [
        {
          "output_type": "stream",
          "text": [
            "{'val_loss': 12926.701171875}\n",
            "time: 8.55 ms (started: 2021-05-25 17:35:29 +00:00)\n"
          ],
          "name": "stdout"
        }
      ]
    },
    {
      "cell_type": "markdown",
      "metadata": {
        "id": "Ey4goMsIaie9"
      },
      "source": [
        "\n",
        "We are now ready to train the model. You may need to run the training loop many times, for different number of epochs and with different learning rates, to get a good result. Also, if your loss becomes too large (or `nan`), you may have to re-initialize the model by running the cell `model = InsuranceModel()`. Experiment with this for a while, and try to get to as low a loss as possible."
      ]
    },
    {
      "cell_type": "markdown",
      "metadata": {
        "id": "ayF5TKXraie9"
      },
      "source": [
        "**Q: Train the model 4-5 times with different learning rates & for different number of epochs.**\n",
        "\n",
        "Hint: Vary learning rates by orders of 10 (e.g. `1e-2`, `1e-3`, `1e-4`, `1e-5`, `1e-6`) to figure out what works."
      ]
    },
    {
      "cell_type": "code",
      "metadata": {
        "colab": {
          "base_uri": "https://localhost:8080/"
        },
        "id": "oIbxjVUraie9",
        "outputId": "7bb88788-faf5-479a-a0ed-cbfa6a4dcc2d"
      },
      "source": [
        "epochs = 10000\n",
        "lr = 1e-4\n",
        "history1 = fit(epochs, lr, model, train_loader, val_loader)"
      ],
      "execution_count": null,
      "outputs": [
        {
          "output_type": "stream",
          "text": [
            "Epoch [2000], val_loss: 8851.1133\n",
            "Epoch [4000], val_loss: 7502.6211\n",
            "Epoch [6000], val_loss: 7290.8467\n",
            "Epoch [8000], val_loss: 7270.0664\n",
            "Epoch [10000], val_loss: 7244.4814\n",
            "time: 1min 50s (started: 2021-05-25 17:35:29 +00:00)\n"
          ],
          "name": "stdout"
        }
      ]
    },
    {
      "cell_type": "code",
      "metadata": {
        "colab": {
          "base_uri": "https://localhost:8080/"
        },
        "id": "yrs_fOVpaie9",
        "outputId": "c94c2082-1693-444a-cf2d-99354074a000"
      },
      "source": [
        "epochs = 10000\n",
        "lr = 1e-4\n",
        "history2 = fit(epochs, lr, model, train_loader, val_loader)"
      ],
      "execution_count": null,
      "outputs": [
        {
          "output_type": "stream",
          "text": [
            "Epoch [2000], val_loss: 7213.2578\n",
            "Epoch [4000], val_loss: 7179.9092\n",
            "Epoch [6000], val_loss: 7145.5498\n",
            "Epoch [8000], val_loss: 7110.6621\n",
            "Epoch [10000], val_loss: 7077.5156\n",
            "time: 1min 50s (started: 2021-05-25 17:37:20 +00:00)\n"
          ],
          "name": "stdout"
        }
      ]
    },
    {
      "cell_type": "code",
      "metadata": {
        "colab": {
          "base_uri": "https://localhost:8080/"
        },
        "id": "Og1rk9rhaie-",
        "outputId": "1b42317c-0e09-4845-920e-765f4c874c31"
      },
      "source": [
        "epochs = 10000\n",
        "lr = 1e-4\n",
        "history3 = fit(epochs, lr, model, train_loader, val_loader)"
      ],
      "execution_count": null,
      "outputs": [
        {
          "output_type": "stream",
          "text": [
            "Epoch [2000], val_loss: 7044.0288\n",
            "Epoch [4000], val_loss: 7012.3613\n",
            "Epoch [6000], val_loss: 6984.0449\n",
            "Epoch [8000], val_loss: 6957.1328\n",
            "Epoch [10000], val_loss: 6930.4785\n",
            "time: 1min 50s (started: 2021-05-25 17:39:10 +00:00)\n"
          ],
          "name": "stdout"
        }
      ]
    },
    {
      "cell_type": "code",
      "metadata": {
        "colab": {
          "base_uri": "https://localhost:8080/"
        },
        "id": "KGfp0NOpaie-",
        "outputId": "35ffc7bc-10c6-4ae3-cc5e-5d63776c2cc5"
      },
      "source": [
        "epochs = 10000\n",
        "lr = 1e-5\n",
        "history4 = fit(epochs, lr, model, train_loader, val_loader)"
      ],
      "execution_count": null,
      "outputs": [
        {
          "output_type": "stream",
          "text": [
            "Epoch [2000], val_loss: 6927.8652\n",
            "Epoch [4000], val_loss: 6925.3271\n",
            "Epoch [6000], val_loss: 6922.7891\n",
            "Epoch [8000], val_loss: 6920.2568\n",
            "Epoch [10000], val_loss: 6917.7148\n",
            "time: 1min 50s (started: 2021-05-25 17:41:01 +00:00)\n"
          ],
          "name": "stdout"
        }
      ]
    },
    {
      "cell_type": "code",
      "metadata": {
        "colab": {
          "base_uri": "https://localhost:8080/"
        },
        "id": "EU2bAt_daie-",
        "outputId": "fd60b5a7-3d2c-44f9-d05d-16c63c06c2e9"
      },
      "source": [
        "epochs = 1000\n",
        "lr = 1e-6\n",
        "history5 = fit(epochs, lr, model, train_loader, val_loader)"
      ],
      "execution_count": null,
      "outputs": [
        {
          "output_type": "stream",
          "text": [
            "Epoch [1000], val_loss: 6917.5811\n",
            "time: 11 s (started: 2021-05-25 17:42:51 +00:00)\n"
          ],
          "name": "stdout"
        }
      ]
    },
    {
      "cell_type": "markdown",
      "metadata": {
        "id": "eb9H8A0-Rnf8"
      },
      "source": [
        "#Observation:\n",
        "\n",
        "When "
      ]
    },
    {
      "cell_type": "markdown",
      "metadata": {
        "id": "8lcNFkDIaie_"
      },
      "source": [
        "**Q: What is the final validation loss of your model?**"
      ]
    },
    {
      "cell_type": "code",
      "metadata": {
        "colab": {
          "base_uri": "https://localhost:8080/"
        },
        "id": "2op5lcGdaie_",
        "outputId": "02be2979-be04-4fff-f33f-dcf71fbedd37"
      },
      "source": [
        "val_loss = evaluate(model, val_loader)\n",
        "val_loss"
      ],
      "execution_count": null,
      "outputs": [
        {
          "output_type": "execute_result",
          "data": {
            "text/plain": [
              "{'val_loss': 6917.5810546875}"
            ]
          },
          "metadata": {
            "tags": []
          },
          "execution_count": 93
        },
        {
          "output_type": "stream",
          "text": [
            "time: 9.54 ms (started: 2021-05-25 17:43:02 +00:00)\n"
          ],
          "name": "stdout"
        }
      ]
    },
    {
      "cell_type": "markdown",
      "metadata": {
        "id": "_V8-fpvKaifA"
      },
      "source": [
        "Let's log the final validation loss to Jovian and commit the notebook"
      ]
    },
    {
      "cell_type": "code",
      "metadata": {
        "colab": {
          "base_uri": "https://localhost:8080/"
        },
        "id": "yckr7bb_aifA",
        "outputId": "30d04d92-b3f5-4d93-9b47-ec1bee621866"
      },
      "source": [
        "jovian.log_metrics(val_loss=val_loss)"
      ],
      "execution_count": null,
      "outputs": [
        {
          "output_type": "stream",
          "text": [
            "[jovian] Metrics logged.\u001b[0m\n",
            "time: 145 ms (started: 2021-05-25 17:43:02 +00:00)\n"
          ],
          "name": "stdout"
        }
      ]
    },
    {
      "cell_type": "code",
      "metadata": {
        "colab": {
          "base_uri": "https://localhost:8080/",
          "height": 102
        },
        "id": "SGn8UiKcaifA",
        "outputId": "e41966b8-743e-4293-cbe9-ecf27f66c9cc"
      },
      "source": [
        "jovian.commit(project=project_name, environment=None)"
      ],
      "execution_count": null,
      "outputs": [
        {
          "output_type": "stream",
          "text": [
            "[jovian] Detected Colab notebook...\u001b[0m\n",
            "[jovian] Uploading colab notebook to Jovian...\u001b[0m\n",
            "[jovian] Attaching records (metrics, hyperparameters, dataset etc.)\u001b[0m\n",
            "[jovian] Committed successfully! https://jovian.ai/drishtisharma96505/02-insurance-linear-regression\u001b[0m\n"
          ],
          "name": "stdout"
        },
        {
          "output_type": "execute_result",
          "data": {
            "application/vnd.google.colaboratory.intrinsic+json": {
              "type": "string"
            },
            "text/plain": [
              "'https://jovian.ai/drishtisharma96505/02-insurance-linear-regression'"
            ]
          },
          "metadata": {
            "tags": []
          },
          "execution_count": 95
        },
        {
          "output_type": "stream",
          "text": [
            "time: 2.02 s (started: 2021-05-25 17:43:02 +00:00)\n"
          ],
          "name": "stdout"
        }
      ]
    },
    {
      "cell_type": "markdown",
      "metadata": {
        "id": "COu-guaPaifA"
      },
      "source": [
        "Now scroll back up, re-initialize the model, and try different set of values for batch size, number of epochs, learning rate etc. Commit each experiment and use the \"Compare\" and \"View Diff\" options on Jovian to compare the different results."
      ]
    },
    {
      "cell_type": "markdown",
      "metadata": {
        "id": "2fv0FHVfaifB"
      },
      "source": [
        "## Step 5: Make predictions using the trained model\n",
        "\n",
        "**Q: Complete the following function definition to make predictions on a single input**"
      ]
    },
    {
      "cell_type": "code",
      "metadata": {
        "colab": {
          "base_uri": "https://localhost:8080/"
        },
        "id": "WsAaTt-gaifB",
        "outputId": "41f59f57-fcda-41e0-9c42-51dfebd9af8a"
      },
      "source": [
        "def predict_single(input, target, model):\n",
        "    inputs = input.unsqueeze(0)\n",
        "    predictions = model(inputs)                # fill this\n",
        "    prediction = predictions[0].detach()\n",
        "    print(\"Input:\", input)\n",
        "    print(\"Target:\", target)\n",
        "    print(\"Prediction:\", prediction)"
      ],
      "execution_count": null,
      "outputs": [
        {
          "output_type": "stream",
          "text": [
            "time: 4.14 ms (started: 2021-05-25 17:43:04 +00:00)\n"
          ],
          "name": "stdout"
        }
      ]
    },
    {
      "cell_type": "code",
      "metadata": {
        "colab": {
          "base_uri": "https://localhost:8080/"
        },
        "id": "n_iW8bGdaifB",
        "outputId": "df4960ab-942c-454e-dc77-1982436bc18a"
      },
      "source": [
        "input, target = val_ds[0]\n",
        "predict_single(input, target, model)"
      ],
      "execution_count": null,
      "outputs": [
        {
          "output_type": "stream",
          "text": [
            "Input: tensor([34.0000,  0.0000, 42.5619,  2.0000,  0.0000])\n",
            "Target: tensor([6289.])\n",
            "Prediction: tensor([7675.2769])\n",
            "time: 14.2 ms (started: 2021-05-25 17:43:04 +00:00)\n"
          ],
          "name": "stdout"
        }
      ]
    },
    {
      "cell_type": "code",
      "metadata": {
        "colab": {
          "base_uri": "https://localhost:8080/"
        },
        "id": "4v-aI6araifB",
        "outputId": "313eff3a-c5d9-48e0-d7ff-0267edd71964"
      },
      "source": [
        "input, target = val_ds[10]\n",
        "predict_single(input, target, model)"
      ],
      "execution_count": null,
      "outputs": [
        {
          "output_type": "stream",
          "text": [
            "Input: tensor([19.0000,  0.0000, 21.2040,  0.0000,  0.0000])\n",
            "Target: tensor([1815.3418])\n",
            "Prediction: tensor([4221.6592])\n",
            "time: 10.7 ms (started: 2021-05-25 17:43:04 +00:00)\n"
          ],
          "name": "stdout"
        }
      ]
    },
    {
      "cell_type": "code",
      "metadata": {
        "colab": {
          "base_uri": "https://localhost:8080/"
        },
        "id": "J1GIWypWaifC",
        "outputId": "4af7380e-22f9-4241-99e2-db27b21468a6"
      },
      "source": [
        "input, target = val_ds[23]\n",
        "predict_single(input, target, model)"
      ],
      "execution_count": null,
      "outputs": [
        {
          "output_type": "stream",
          "text": [
            "Input: tensor([47.0000,  1.0000, 32.1651,  4.0000,  0.0000])\n",
            "Target: tensor([10927.4404])\n",
            "Prediction: tensor([9961.3604])\n",
            "time: 23.4 ms (started: 2021-05-25 17:43:04 +00:00)\n"
          ],
          "name": "stdout"
        }
      ]
    },
    {
      "cell_type": "markdown",
      "metadata": {
        "id": "UEVfjBjEaifC"
      },
      "source": [
        "Are you happy with your model's predictions? Try to improve them further."
      ]
    },
    {
      "cell_type": "markdown",
      "metadata": {
        "id": "SpnM5vICtvTl"
      },
      "source": [
        "#Observation:\n",
        "1. When loss function mse_loss was used then val_loss was huge and when I changed it to l1_loss the val_loss got reduced remarkably.\n",
        "\n",
        "\n",
        "2. When 1e-2, 1e-5 learning rate was using, most likely we observed gradient exploding problem and val_loss was coming as \"nan\" value. \n",
        "Solution: a) use little less value of learning rate (1e-4, 1e-5, 1e-6) worked fine\n",
        "b) use gradient clipping"
      ]
    },
    {
      "cell_type": "markdown",
      "metadata": {
        "id": "H38CFa4caifC"
      },
      "source": [
        "## (Optional) Step 6: Try another dataset & blog about it\n",
        "\n",
        "While this last step is optional for the submission of your assignment, we highly recommend that you do it. Try to replicate this notebook for a different linear regression or logistic regression problem. This will help solidify your understanding, and give you a chance to differentiate the generic patterns in machine learning from problem-specific details.You can use one of these starer notebooks (just change the dataset):\n",
        "\n",
        "- Linear regression (minimal): https://jovian.ai/aakashns/housing-linear-minimal\n",
        "- Logistic regression (minimal): https://jovian.ai/aakashns/mnist-logistic-minimal\n",
        "\n",
        "Here are some sources to find good datasets:\n",
        "\n",
        "- https://lionbridge.ai/datasets/10-open-datasets-for-linear-regression/\n",
        "- https://www.kaggle.com/rtatman/datasets-for-regression-analysis\n",
        "- https://archive.ics.uci.edu/ml/datasets.php?format=&task=reg&att=&area=&numAtt=&numIns=&type=&sort=nameUp&view=table\n",
        "- https://people.sc.fsu.edu/~jburkardt/datasets/regression/regression.html\n",
        "- https://archive.ics.uci.edu/ml/datasets/wine+quality\n",
        "- https://pytorch.org/docs/stable/torchvision/datasets.html\n",
        "\n",
        "We also recommend that you write a blog about your approach to the problem. Here is a suggested structure for your post (feel free to experiment with it):\n",
        "\n",
        "- Interesting title & subtitle\n",
        "- Overview of what the blog covers (which dataset, linear regression or logistic regression, intro to PyTorch)\n",
        "- Downloading & exploring the data\n",
        "- Preparing the data for training\n",
        "- Creating a model using PyTorch\n",
        "- Training the model to fit the data\n",
        "- Your thoughts on how to experiment with different hyperparmeters to reduce loss\n",
        "- Making predictions using the model\n",
        "\n",
        "As with the previous assignment, you can [embed Juptyer notebook cells & outputs from Jovian](https://medium.com/jovianml/share-and-embed-jupyter-notebooks-online-with-jovian-ml-df709a03064e) into your blog. \n",
        "\n",
        "Don't forget to share your work on the forum: https://jovian.ai/forum/t/linear-regression-and-logistic-regression-notebooks-and-blog-posts/14039"
      ]
    },
    {
      "cell_type": "code",
      "metadata": {
        "colab": {
          "base_uri": "https://localhost:8080/",
          "height": 170
        },
        "id": "1f6vah8qaifC",
        "outputId": "551f208e-7359-476d-8563-cd780a7a5d15"
      },
      "source": [
        "jovian.commit(project=project_name, environment=None)\n",
        "jovian.commit(project=project_name, environment=None) # try again, kaggle fails sometimes"
      ],
      "execution_count": null,
      "outputs": [
        {
          "output_type": "stream",
          "text": [
            "[jovian] Detected Colab notebook...\u001b[0m\n",
            "[jovian] Uploading colab notebook to Jovian...\u001b[0m\n",
            "[jovian] Attaching records (metrics, hyperparameters, dataset etc.)\u001b[0m\n",
            "[jovian] Committed successfully! https://jovian.ai/drishtisharma96505/02-insurance-linear-regression\u001b[0m\n",
            "[jovian] Detected Colab notebook...\u001b[0m\n",
            "[jovian] Uploading colab notebook to Jovian...\u001b[0m\n",
            "[jovian] Attaching records (metrics, hyperparameters, dataset etc.)\u001b[0m\n",
            "[jovian] Committed successfully! https://jovian.ai/drishtisharma96505/02-insurance-linear-regression\u001b[0m\n"
          ],
          "name": "stdout"
        },
        {
          "output_type": "execute_result",
          "data": {
            "application/vnd.google.colaboratory.intrinsic+json": {
              "type": "string"
            },
            "text/plain": [
              "'https://jovian.ai/drishtisharma96505/02-insurance-linear-regression'"
            ]
          },
          "metadata": {
            "tags": []
          },
          "execution_count": 102
        },
        {
          "output_type": "stream",
          "text": [
            "time: 4.01 s (started: 2021-05-25 18:13:25 +00:00)\n"
          ],
          "name": "stdout"
        }
      ]
    },
    {
      "cell_type": "code",
      "metadata": {
        "id": "mmh71HVkaifD"
      },
      "source": [
        ""
      ],
      "execution_count": null,
      "outputs": []
    }
  ]
}